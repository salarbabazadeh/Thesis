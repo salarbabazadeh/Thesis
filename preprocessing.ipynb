{
  "nbformat": 4,
  "nbformat_minor": 0,
  "metadata": {
    "colab": {
      "provenance": []
    },
    "kernelspec": {
      "name": "python3",
      "display_name": "Python 3"
    },
    "language_info": {
      "name": "python"
    }
  },
  "cells": [
    {
      "cell_type": "code",
      "execution_count": null,
      "metadata": {
        "id": "bo12InUWvq7r"
      },
      "outputs": [],
      "source": [
        "####نرامل سازی\n",
        "import numpy as np\n",
        "def z_score_normalization(image):\n",
        "    mean = np.mean(image)\n",
        "    std = np.std(image)\n",
        "    return (image - mean) / std"
      ]
    },
    {
      "cell_type": "code",
      "source": [
        "import scipy.ndimage\n",
        "\n",
        "# 3D Gaussian filtering\n",
        "t1_filtered = scipy.ndimage.gaussian_filter(t1_norm, sigma=(1, 1, 1),mode=\"reflect\")\n",
        "t1ce_filtered = scipy.ndimage.gaussian_filter(t1ce_norm, sigma=(1, 1, 1),mode=\"reflect\")\n",
        "t2_filtered = scipy.ndimage.gaussian_filter(t2_norm, sigma=(1, 1, 1),mode=\"reflect\")\n",
        "flair_filtered = scipy.ndimage.gaussian_filter(flair_norm, sigma=(1, 1, 1),mode=\"reflect\")\n",
        "seg_filtered = scipy.ndimage.gaussian_filter(seg_norm, sigma=(1, 1, 1),mode=\"reflect\")"
      ],
      "metadata": {
        "id": "Xb6Bfa1pwUql"
      },
      "execution_count": null,
      "outputs": []
    },
    {
      "cell_type": "code",
      "source": [
        "#حذف نویز به روش میانگین\n",
        "\n",
        "import numpy as np\n",
        "import matplotlib.pyplot as plt\n",
        "from scipy.ndimage import uniform_filter\n",
        "\n",
        "\n",
        "def apply_mean_filter(image, size=3):\n",
        "    return uniform_filter(image, size=size)"
      ],
      "metadata": {
        "id": "AW2PvL-ewDtW"
      },
      "execution_count": null,
      "outputs": []
    },
    {
      "cell_type": "code",
      "source": [
        "#حذف نویز با فیلتر میانه\n",
        "from skimage.filters import median\n",
        "\n",
        "def denoise_median(image, size=3):\n",
        "    return median(image, np.ones((size, size, size)))"
      ],
      "metadata": {
        "id": "kh0w91LcwOvd"
      },
      "execution_count": null,
      "outputs": []
    },
    {
      "cell_type": "code",
      "source": [
        "# تصحیح ناهمگنی شدت با N4\n",
        "def n4_bias_correction(image):\n",
        "    image_sitk = sitk.GetImageFromArray(image)\n",
        "    corrector = sitk.N4BiasFieldCorrectionImageFilter()\n",
        "    corrected_image_sitk = corrector.Execute(image_sitk)\n",
        "    return sitk.GetArrayFromImage(corrected_image_sitk)\n",
        "\n",
        "t1_corrected = n4_bias_correction(t1_filtered)\n",
        "t1ce_corrected = n4_bias_correction(t1ce_filtered)\n",
        "t2_corrected = n4_bias_correction(t2_filtered)\n",
        "flair_corrected = n4_bias_correction(flair_filtered)\n",
        "seg_corrected = n4_bias_correction(seg_filtered)"
      ],
      "metadata": {
        "id": "Of0w7cK5wP0T"
      },
      "execution_count": null,
      "outputs": []
    },
    {
      "cell_type": "code",
      "source": [
        "### داده افزایی\n",
        "from scipy.ndimage import rotate\n",
        "\n",
        "def augment_data(image):\n",
        "    augmented = []\n",
        "    augmented.append(image)\n",
        "    augmented.append(np.flip(image, axis=0))\n",
        "    augmented.append(rotate(image, angle=45, axes=(1, 2), reshape=False))\n",
        "    return np.array(augmented)"
      ],
      "metadata": {
        "id": "yFJxmDHTwhdz"
      },
      "execution_count": null,
      "outputs": []
    }
  ]
}